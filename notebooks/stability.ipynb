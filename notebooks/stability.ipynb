{
 "cells": [
  {
   "cell_type": "markdown",
   "metadata": {},
   "source": [
    "# Local stability analysis\n",
    "\n",
    "## [Models in Population Biology](http://scicompy.yoavram.com)\n",
    "## Yoav Ram\n",
    "\n",
    "This is an appendix that provides the mathematical background to local stability analysis as used in the [predator-prey model](predator-prey.ipynb) and the [SIR model](gillespie.ipynb) notebooks."
   ]
  },
  {
   "cell_type": "markdown",
   "metadata": {},
   "source": [
    "## Single-valued ODE\n",
    "\n",
    "Consider the ODE\n",
    "$$\n",
    "\\frac{d x}{d t} = f(t, x).\n",
    "$$\n",
    "\n",
    "The equilibrium $x^*$ is the solution to\n",
    "$$\n",
    "f(t, x^*) = 0.\n",
    "$$"
   ]
  },
  {
   "cell_type": "markdown",
   "metadata": {},
   "source": [
    "$x^*$ is **locally stable** if there exists $\\delta > 0$ such that if $|x(0) - x^*| < \\delta$ then $x(t) \\to x^*$."
   ]
  },
  {
   "cell_type": "markdown",
   "metadata": {},
   "source": [
    "Denote $\\epsilon(t) = x(t) - x^*$, then by definition of $x^*$,\n",
    "$$\n",
    "\\frac{d \\epsilon}{d t} = \\frac{d}{d t} \\big(x(t) - x^* \\big) = \\\\ \n",
    "\\frac{d x}{dt} = f(t, x).\n",
    "$$\n",
    "\n",
    "We use a linear approximation (i.e. Taylor expansion) of $f(t, x)$ around $x^*$ such that \n",
    "\n",
    "$$\n",
    "f(t, x) \\approx f(t,x^*) + (x-x^*)\\cdot \\frac{d f}{dx} \\mid_{x=x^*} .\n",
    "$$\n",
    "\n",
    "Therefore,\n",
    "$$\n",
    "\\frac{d \\epsilon}{d t} = \\frac{d^2 x}{d t d x}\\mid_{x=x^*} \\cdot \\epsilon(t),\n",
    "$$\n",
    "up to terms of order $\\epsilon(t)^2$."
   ]
  },
  {
   "cell_type": "markdown",
   "metadata": {},
   "source": [
    "Denoting $\\lambda = \\frac{d^2 x}{d t d x}(x^*)$ and integrating, we now have\n",
    "$$\n",
    "\\epsilon(t) = x(0) e^{\\lambda t}.\n",
    "$$\n",
    "\n",
    "Therefore, if $\\lambda < 0$ then $\\epsilon(t) \\to 0$.\n",
    "\n",
    "See also Otto and Day, Recipe 5.3 Case C (cases A and B are for discrete time dynamics)."
   ]
  },
  {
   "cell_type": "markdown",
   "metadata": {},
   "source": [
    "## Multi-valued ODE\n",
    "\n",
    "Now $x$ is multivariate (multidimensional), $\\bar x(t) = (x_1(t), x_2(t), \\ldots, x_n(t)) \\in \\mathbb{R}^n$ (a bar represents vectors).\n",
    "\n",
    "The ODE is given by\n",
    "$$\n",
    "\\frac{d \\bar x}{dt} = F(t, \\bar x),\n",
    "$$\n",
    "where $F_n(t, \\bar x) = \\frac{d x_n}{d t}$.\n",
    "\n",
    "The equilibrium $\\bar x^*$ is a solution to\n",
    "$$\n",
    "F(t, \\bar x^*) = 0.\n",
    "$$"
   ]
  },
  {
   "cell_type": "markdown",
   "metadata": {},
   "source": [
    "Given a small perturbation $\\bar \\epsilon(t) = \\bar x(t) - \\bar x^*$, we again have\n",
    "$$\n",
    "\\frac{d \\bar \\epsilon}{d t} = \\ldots = F(t, \\bar x).\n",
    "$$"
   ]
  },
  {
   "cell_type": "markdown",
   "metadata": {},
   "source": [
    "We again do a linearization of $F(t,\\bar{x})$ around $\\bar{x}^*$.\n",
    "For that we use the Jacobian,\n",
    "$$\n",
    "J(\\bar x) = \\pmatrix{\n",
    "\\frac{\\partial F_1}{\\partial x_1} & \\ldots & \\frac{\\partial F_1}{\\partial x_n}\\\\\n",
    "\\ldots & \\ldots & \\ldots \\\\\n",
    "\\frac{\\partial F_n}{\\partial x_1} & \\ldots & \\frac{\\partial F_n}{\\partial x_n}\n",
    "},\n",
    "$$\n",
    "where $F_n(t, \\bar x) = \\frac{d x_n}{d t}$.\n",
    "\n",
    "Then $J^* = J(\\bar x^*$), and using a linear approximation around $\\bar x^*$ we have\n",
    "$$\n",
    "\\frac{d \\bar \\epsilon}{d t} = F(t, \\bar x^*) + J^* \\cdot \\bar \\epsilon = J^* \\cdot \\bar \\epsilon,\n",
    "$$\n",
    "by definition of $\\bar x^*$."
   ]
  },
  {
   "cell_type": "markdown",
   "metadata": {},
   "source": [
    "Note that this ODE is solved by\n",
    "\n",
    "$$\n",
    "\\bar \\epsilon(t) = c_1 \\bar v_1 e^{\\lambda_1 t} + \\ldots + c_n \\bar v_n e^{\\lambda_n t},\n",
    "$$\n",
    "\n",
    "if $\\lambda_k$ and $\\bar v_k$ are eigenvalues and eigenvectors of $J^*$, and $c_k$ are constants,\n",
    "because \n",
    "\n",
    "$$\n",
    "c_k \\bar v_k \\frac{d e^{\\lambda_k t}}{dt} = \\lambda_k c_k \\bar v_k  e^{\\lambda_k t} = J^* c_k \\bar v_k  e^{\\lambda_k t}.\n",
    "$$"
   ]
  },
  {
   "cell_type": "markdown",
   "metadata": {},
   "source": [
    "The eigenvalues can be complex, for example $\\lambda_k=a+bi$.\n",
    "However,\n",
    "\n",
    "$$\n",
    "e^{at+bti} = e^{at} \\cdot e^{bti} = \n",
    "e^{at} \\cdot \\big( cos(bt) + i sin(bt) \\big),\n",
    "$$\n",
    "\n",
    "due to Euler's formula, and therefore only the real part $a$ affects the distance of $\\epsilon(t)$ from the origin, i.e. the size of the perturbation.\n",
    "\n",
    "Therefore, if the real parts of all the eigenvalues are negative then \n",
    "$$\n",
    "\\bar \\epsilon(t) = c_1 \\bar v_1 e^{\\lambda_1 t} + \\ldots + c_n \\bar v_n e^{\\lambda_n t} \\to 0,\n",
    "$$\n",
    "and $\\bar x^*$ is locally stable."
   ]
  },
  {
   "cell_type": "markdown",
   "metadata": {},
   "source": [
    "# Colophon\n",
    "This notebook was written by [Yoav Ram](http://www.yoavram.com) and is part of the [Models in Population Biology](http://modelspopbiol.yoavram.com) course at Tel Aviv University.\n",
    "\n",
    "This work is licensed under a CC BY-NC-SA 4.0 International License."
   ]
  }
 ],
 "metadata": {
  "kernelspec": {
   "display_name": "Python 3 (ipykernel)",
   "language": "python",
   "name": "python3"
  },
  "language_info": {
   "codemirror_mode": {
    "name": "ipython",
    "version": 3
   },
   "file_extension": ".py",
   "mimetype": "text/x-python",
   "name": "python",
   "nbconvert_exporter": "python",
   "pygments_lexer": "ipython3",
   "version": "3.9.13"
  }
 },
 "nbformat": 4,
 "nbformat_minor": 4
}
