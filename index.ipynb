{
 "cells": [
  {
   "cell_type": "markdown",
   "metadata": {},
   "source": [
    "# Models in Population Biology\n",
    "## Yoav Ram \n",
    "### Tel Aviv University / Spring 2023\n",
    "Course website: [modelspopbiol.yoavram.com](https://modelspopbiol.yoavram.com)"
   ]
  },
  {
   "cell_type": "markdown",
   "metadata": {},
   "source": [
    "## Tutorials\n",
    "\n",
    "- [Python](notebooks/python.ipynb)\n",
    "- [NumPy](notebooks/numpy.ipynb)\n",
    "- [Matplotlib](notebooks/matplotlib.ipynb)"
   ]
  },
  {
   "cell_type": "markdown",
   "metadata": {},
   "source": [
    "# TODO\n",
    "- more content in deterministic pop gen, see slides from computational models in biology seminar.\n",
    "- missing class? density estimation? neural networks?"
   ]
  },
  {
   "cell_type": "markdown",
   "metadata": {},
   "source": [
    "## Lectures\n",
    "\n",
    "1. [Models in Biology Or:  Biology is more theoretical than physics](introduction/introduction.pdf)\n",
    "1. [Continuous-time univariate deterministic model: population growth models](notebooks/population-growth.ipynb)\n",
    "1. [Continuous-time multivariate deterministic model: Predator-prey model](notebooks/predator-prey.ipynb)\n",
    "1. [Discrete-time univariate deterministic model: Haploid selection](notebooks/population-genetics.ipynb)\n",
    "1. [Discrete-time univariate stochastic model: Wright-Fisher model](notebooks/wright-fisher.ipynb)\n",
    "1. [Continuous-time multivariate stochastic model: SIR model](notebooks/gillespie.ipynb)\n",
    "1. [Maximum likelihood estimation](notebooks/mle.ipynb)\n",
    "1. [Bayesian inference](notebooks/bayesian.ipynb)\n",
    "1. [Generalized linear models 1: Exponential growth](notebooks/exponential-growth.ipynb)\n",
    "1. [Generalized linear models 2: COVID-19 survival](notebooks/logistic-model.ipynb)\n",
    "1. [Bayesian inference in non-linear dynamic models: Predator-prey model](notebooks/bayesian_ode.ipynb)\n",
    "1. [Likelihood-free inference: Animal social networks](notebooks/lfi.ipynb)"
   ]
  },
  {
   "cell_type": "markdown",
   "metadata": {},
   "source": [
    "## Jupyter help\n",
    "\n",
    "- Use autocompletion by pressing `Tab`. \n",
    " - In the middle of a word it will try to finish the variable name.\n",
    " - Just after a dot (`.`) it will try to bring up a menu of methods and attributes; the variable before the dot must already be defined.\n",
    "- Use documentation by pressing `Shift+Tab`; this is especially useful inside a function parentheses as it will show the function arguments, but it can be used anywhere. Again, variables must already be defined."
   ]
  },
  {
   "cell_type": "markdown",
   "metadata": {},
   "source": [
    "## Terminal\n",
    "\n",
    "To open a terminal inside Jupyter, choose `File->New...->Terminal` in the top menu."
   ]
  },
  {
   "cell_type": "markdown",
   "metadata": {},
   "source": [
    "## Update git\n",
    "\n",
    "- Open terminal\n",
    "- Change directory to the repository \n",
    "- Update to latest version by running `git pull`\n",
    "- Note: if any files were changed you would have to discard the changes using `git checkout -- <filename>` or [stash](https://www.git-scm.com/docs/git-stash) them "
   ]
  }
 ],
 "metadata": {
  "kernelspec": {
   "display_name": "Python 3 (ipykernel)",
   "language": "python",
   "name": "python3"
  },
  "language_info": {
   "codemirror_mode": {
    "name": "ipython",
    "version": 3
   },
   "file_extension": ".py",
   "mimetype": "text/x-python",
   "name": "python",
   "nbconvert_exporter": "python",
   "pygments_lexer": "ipython3",
   "version": "3.9.13"
  }
 },
 "nbformat": 4,
 "nbformat_minor": 4
}
